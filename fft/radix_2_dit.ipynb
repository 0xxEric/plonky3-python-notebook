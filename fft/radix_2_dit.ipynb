{
 "cells": [
  {
   "cell_type": "markdown",
   "metadata": {},
   "source": [
    "Radix-2 DIT FFT was invented by Cooley and Tukey in 1965. It's widely used in digital signal processing.\n",
    "\n",
    "It is a divide-and-conquer algorithm that recursively splits the problem into smaller subproblems. The complexity is O(N log N).\n",
    "\n",
    "Radix-2 means that the number of points is a power of 2. DIT is Decimation In Time, means that the input is decimated in time domain.\n",
    "\n",
    "Let's start with an example.\n",
    "\n",
    "One representation of the polynomial is using coefficient form. Such as:\n",
    "\n",
    "$f(x) = a_0 + a_1 x + a_2 x^2 + a_3 x^3$\n",
    "\n",
    "$g(x) = b_0 + b_1 x + b_2 x^2 + b_3 x^3$\n",
    "\n",
    "Normally, if you want to compute the convolution of $f(x)$ and $g(x)$, you would need to compute the following:\n",
    "\n",
    "$h(x) = f(x) * g(x) = (a_0 + a_1 x + a_2 x^2 + a_3 x^3) * (b_0 + b_1 x + b_2 x^2 + b_3 x^3) = c_0 + c_1 x + c_2 x^2 + c_3 x^3 + c_4 x^4 + c_5 x^5 + c_6 x^6$\n",
    "\n",
    "This is a polynomial multiplication, and the complexity is O(N^2).\n",
    "\n",
    "Can we lower the complexity?\n",
    "\n",
    "Before we answer this question, let's take a look at another representation of the polynomial.\n",
    "\n",
    "Another representation of the polynomial is using point-value form.\n",
    "\n",
    "$f(x) = (x_0, f(x_0)), (x_1, f(x_1)), (x_2, f(x_2)), (x_3, f(x_3))$\n",
    "\n",
    "$g(x) = (x_0, g(x_0)), (x_1, g(x_1)), (x_2, g(x_2)), (x_3, g(x_3))$\n",
    "\n",
    "4 points are enough to represent a polynomial of degree 3. From previous section, we know that $h(x)$ is a polynomial of degree 6. So we need at least 7 points to represent $h(x)$.\n",
    "\n",
    "The steps of polynomial multiplication in point-value form is as follows:\n",
    "\n",
    "1. Extend the fields of $f(x)$ and $g(x)$ to at least 7 points.\n",
    "2. Compute the point-value form of $f(x)$ and $g(x)$.\n",
    "3. Multiply the point-value form of $f(x)$ and $g(x)$.\n",
    "\n",
    "Let's take a look at the steps in detail.\n",
    "1. Extend the fields of $f(x)$ and $g(x)$ to at least 7 points. We use 8 points for convenience. Later we will explain why we need to extend the fields and why we use 8 points.\n",
    "So new fields are $x_0, x_1, x_2, x_3, x_4, x_5, x_6, x_7$.\n",
    "\n",
    "2. Compute the point-value form of $f(x)$ and $g(x)$.\n",
    "$f(x) = (x_0, f(x_0)), (x_1, f(x_1)), (x_2, f(x_2)), (x_3, f(x_3)), (x_4, f(x_4)), (x_5, f(x_5)), (x_6, f(x_6)), (x_7, f(x_7))$\n",
    "$g(x) = (x_0, g(x_0)), (x_1, g(x_1)), (x_2, g(x_2)), (x_3, g(x_3)), (x_4, g(x_4)), (x_5, g(x_5)), (x_6, g(x_6)), (x_7, g(x_7))$\n",
    "\n",
    "3. Multiply the point-value form of $f(x)$ and $g(x)$.\n",
    "$h(x) = (x_0, f(x_0) * g(x_0)), (x_1, f(x_1) * g(x_1)), (x_2, f(x_2) * g(x_2)), (x_3, f(x_3) * g(x_3)), (x_4, f(x_4) * g(x_4)), (x_5, f(x_5) * g(x_5)), (x_6, f(x_6) * g(x_6)), (x_7, f(x_7) * g(x_7))$\n",
    "\n",
    "The complexity of this is only O(N).\n",
    "\n",
    "If we can always compute polynomial multiplication in point-value form in O(N) time, we can use this to speed up the polynomial multiplication.\n",
    "\n",
    "However, there are two problems:\n",
    "1. How to convert a polynomial from coefficient form to point-value form?\n",
    "2. How to convert a polynomial from point-value form to coefficient form?\n",
    "\n",
    "The first problem is called polynomial interpolation. The second problem is called polynomial evaluation.\n",
    "\n",
    "The complexity of polynomial interpolation is O(N^2). The complexity of polynomial evaluation is O(N^2).\n",
    "\n",
    "However, if you use FFT, you can compute the convolution in O(N log N) time.\n",
    "\n",
    "The steps are as follows:\n",
    "\n",
    "1. Compute the FFT of $f(x)$ and $g(x)$ with 8 points.\n",
    "2. Multiply the evaluation(f(x_0), f(x_1), ..., f(x_7)) and evaluation(g(x_0), g(x_1), ..., g(x_7)) element-wise.\n",
    "3. Compute the inverse FFT of the result to get the coefficient form of $h(x)$.\n"
   ]
  },
  {
   "cell_type": "markdown",
   "metadata": {},
   "source": [
    "Now we will take a look at how to compute the FFT of a polynomial.\n",
    "\n"
   ]
  },
  {
   "cell_type": "code",
   "execution_count": null,
   "metadata": {
    "vscode": {
     "languageId": "python"
    }
   },
   "outputs": [],
   "source": []
  }
 ],
 "metadata": {
  "kernelspec": {
   "display_name": "SageMath 10.3",
   "language": "sage",
   "name": "SageMath-10.3"
  },
  "language_info": {
   "name": "sage"
  }
 },
 "nbformat": 4,
 "nbformat_minor": 2
}
