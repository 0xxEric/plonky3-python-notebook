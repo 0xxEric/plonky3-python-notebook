{
 "cells": [
  {
   "cell_type": "markdown",
   "id": "72c03f7d-8cea-4aca-a82f-1d231deb8464",
   "metadata": {},
   "source": [
    "## Mersenne Field \n",
    "```python\n",
    "def sqrt(self):\n",
    "    assert self.modulus % 4 == 3\n",
    "    return self ** ((self.modulus + 1) // 4)\n",
    "```\n",
    "\n",
    "By [Euler's criterion](https://en.wikipedia.org/wiki/Euler%27s_criterion), if there is an $x$ s.t. $x^2 \\equiv a \\pmod p$, then $a^{\\frac{p-1}{2}}\\equiv 1 \\pmod p$.\n",
    "\n",
    "So $x^2 \\equiv a^{\\frac{p-1}{2}} a \\equiv a^{\\frac{p+1}{2}} \\pmod p$, also by $p \\equiv 3 \\pmod 4$, $\\frac{p+1}{4}$ is an integer. \n",
    "\n",
    "Therefore $x \\equiv a^{\\frac{p+1}{4}} \\pmod p$\n",
    "\n",
    "The `mersenne_31.rs` file in Plonky3 provided Rust code defines the `Mersenne31` prime field using the Mersenne prime $2^{31} - 1$. This field is used in cryptographic and mathematical computations due to its efficient arithmetic properties. The code includes implementations for various traits for field operations such as `Add`, `Sub`, `Mul`, `Div` to enable field arithmetic operations of `Mersenne31` values. Additionally, it provides methods for creating new `Mersenne31` instances, checking equality, hashing, and performing field-specific operations like exponentiation and inversion. Here is a simplified implementation using Python with detailed annotation:"
   ]
  },
  {
   "cell_type": "code",
   "execution_count": 3,
   "id": "35f40ed2-fa02-447b-be62-1a0411f12c51",
   "metadata": {},
   "outputs": [],
   "source": [
    "# Base class for elements in a finite field\n",
    "class FieldElement():\n",
    "    def __init__(self, value):\n",
    "        # If the input is an instance of FieldElement, extract its value\n",
    "        if isinstance(value, self.__class__):\n",
    "            value = value.value\n",
    "        # Store the value modulo the field's modulus\n",
    "        self.value = value % self.modulus\n",
    "\n",
    "    # Addition operation\n",
    "    def __add__(self, other):\n",
    "        # Determine the value to add based on the type of 'other'\n",
    "        othervalue = other if isinstance(other, int) else other.value\n",
    "        # Return a new instance with the sum modulo the modulus\n",
    "        return self.__class__((self.value + othervalue) % self.modulus)\n",
    "\n",
    "    # Subtraction operation\n",
    "    def __sub__(self, other):\n",
    "        # Determine the value to subtract based on the type of 'other'\n",
    "        othervalue = other if isinstance(other, int) else other.value\n",
    "        # Return a new instance with the difference modulo the modulus\n",
    "        return self.__class__((self.value - othervalue) % self.modulus)\n",
    "\n",
    "    # Negation operation (additive inverse)\n",
    "    def __neg__(self):\n",
    "        # Return a new instance representing the negation\n",
    "        return self.__class__(self.modulus - (self.value or self.modulus))\n",
    "\n",
    "    # Multiplication operation\n",
    "    def __mul__(self, other):\n",
    "        # Determine the value to multiply based on the type of 'other'\n",
    "        othervalue = other if isinstance(other, int) else other.value\n",
    "        # Return a new instance with the product modulo the modulus\n",
    "        return self.__class__((self.value * othervalue) % self.modulus)\n",
    "\n",
    "    # Right-side addition (for operations like int + FieldElement)\n",
    "    __radd__ = __add__\n",
    "    # Right-side multiplication (for operations like int * FieldElement)\n",
    "    __rmul__ = __mul__\n",
    "\n",
    "    # Exponentiation operation\n",
    "    def __pow__(self, other):\n",
    "        # Return a new instance with the value raised to the power 'other' modulo the modulus\n",
    "        return self.__class__(pow(self.value, other, self.modulus))\n",
    "\n",
    "    # Multiplicative inverse\n",
    "    def inv(self):\n",
    "        # Compute the modular inverse using Python's built-in pow function with a negative exponent\n",
    "        return self.__class__(\n",
    "            pow(self.value, -1, self.modulus) if self.value else 0\n",
    "        )\n",
    "\n",
    "    # Square root operation (valid when modulus % 4 == 3)\n",
    "    def sqrt(self):\n",
    "        # Ensure the modulus is of the form 4k + 3\n",
    "        assert self.modulus % 4 == 3\n",
    "        # Return the square root using the exponentiation method specific to such moduli\n",
    "        return self ** ((self.modulus + 1) // 4)\n",
    "\n",
    "    # Division operation\n",
    "    def __truediv__(self, other):\n",
    "        # Convert 'other' to a FieldElement if it's an integer\n",
    "        if isinstance(other, int):\n",
    "            other = self.__class__(other)\n",
    "        # Multiply by the multiplicative inverse of 'other'\n",
    "        return self * other.inv()\n",
    "\n",
    "    # Equality check\n",
    "    def __eq__(self, other):\n",
    "        # Determine the value to compare based on the type of 'other'\n",
    "        othervalue = other if isinstance(other, int) else other.value\n",
    "        # Check if the values are equal\n",
    "        return self.value == othervalue\n",
    "\n",
    "    # String representation for printing\n",
    "    def __repr__(self):\n",
    "        return '<' + str(self.value) + '>'\n",
    "\n",
    "    # Convert the value to bytes (little-endian, 4 bytes)\n",
    "    def to_bytes(self):\n",
    "        return self.value.to_bytes(4, 'little')\n",
    "\n",
    "    # Create an instance from bytes (little-endian)\n",
    "    @classmethod\n",
    "    def from_bytes(cls, bytez):\n",
    "        return cls(int.from_bytes(bytez, 'little'))\n",
    "\n",
    "# Subclass representing a specific finite field with modulus 7\n",
    "class BabyMersenneElement(FieldElement):\n",
    "    # Define the modulus as 2^3 - 1 = 7\n",
    "    modulus = 2**3 - 1\n",
    "\n",
    "# Alias for easier usage\n",
    "BB = BabyMersenneElement\n"
   ]
  },
  {
   "cell_type": "code",
   "execution_count": 2,
   "id": "3a5a4bb5-868b-428c-bcaf-601292d7f6b5",
   "metadata": {},
   "outputs": [
    {
     "data": {
      "text/plain": [
       "<1>"
      ]
     },
     "execution_count": 2,
     "metadata": {},
     "output_type": "execute_result"
    }
   ],
   "source": [
    "a = BB(3)\n",
    "b = BB(5)\n",
    "\n",
    "# Addition\n",
    "c = a + b  # Result: <1> because (3 + 5) % 7 == 1\n",
    "c"
   ]
  },
  {
   "cell_type": "code",
   "execution_count": 3,
   "id": "219240cb-9c57-4fe0-8875-c329674dcbd6",
   "metadata": {},
   "outputs": [
    {
     "data": {
      "text/plain": [
       "<1>"
      ]
     },
     "execution_count": 3,
     "metadata": {},
     "output_type": "execute_result"
    }
   ],
   "source": [
    "# Multiplication\n",
    "d = a * b  # Result: <1> because (3 * 5) % 7 == 1\n",
    "d"
   ]
  },
  {
   "cell_type": "code",
   "execution_count": 4,
   "id": "8493aa3c-9936-483c-a142-766d805a9477",
   "metadata": {},
   "outputs": [
    {
     "data": {
      "text/plain": [
       "<5>"
      ]
     },
     "execution_count": 4,
     "metadata": {},
     "output_type": "execute_result"
    }
   ],
   "source": [
    "# Inverse\n",
    "e = a.inv()  # Result: <5> because 3 * 5 % 7 == 1\n",
    "e"
   ]
  },
  {
   "cell_type": "code",
   "execution_count": 5,
   "id": "6e717585-c363-408b-8e75-80a5bd08adaa",
   "metadata": {},
   "outputs": [
    {
     "data": {
      "text/plain": [
       "<2>"
      ]
     },
     "execution_count": 5,
     "metadata": {},
     "output_type": "execute_result"
    }
   ],
   "source": [
    "# Division\n",
    "f = a / b  # Result: <5> because 3 * 5^(-1) % 7 == 5\n",
    "f"
   ]
  },
  {
   "cell_type": "markdown",
   "id": "95e9a487-8b2f-4c48-a1b1-0ea4db5a26cf",
   "metadata": {},
   "source": [
    "## Extension Field"
   ]
  },
  {
   "cell_type": "code",
   "execution_count": 4,
   "id": "eb3ad341-e20f-4c3b-8dad-8626f94ca2db",
   "metadata": {},
   "outputs": [],
   "source": [
    "class ExtendedFieldElement():\n",
    "    def __init__(self, value):\n",
    "        self.value = self._to_list(value)\n",
    "        self.modulus = self.value[0].modulus\n",
    "\n",
    "    def _to_list(self, value):\n",
    "        if isinstance(value, self.__class__):\n",
    "            return value.value\n",
    "        elif isinstance(value, self.subclass):\n",
    "            return [value] + [self.subclass(0)]*3\n",
    "        elif isinstance(value, list):\n",
    "            return [self.subclass(v) for v in value]\n",
    "        elif isinstance(value, int):\n",
    "            return [self.subclass(value)] + [self.subclass(0)]*3\n",
    "        else:\n",
    "            raise Exception(\"Incompatible value: {}\".format(value))\n",
    "\n",
    "    def __add__(self, other):\n",
    "        othervalue = self._to_list(other)\n",
    "        return self.__class__([x+y for x,y in zip(self.value, othervalue)])\n",
    "\n",
    "    def __sub__(self, other):\n",
    "        othervalue = self._to_list(other)\n",
    "        return self.__class__([x-y for x,y in zip(self.value, othervalue)])\n",
    "\n",
    "    def __mul__(self, other):\n",
    "        if isinstance(other, (int, self.subclass)):\n",
    "            return self.__class__([x*other for x in self.value])\n",
    "        m1, m2, m3, m4 = self.value\n",
    "        o1, o2, o3, o4 = self._to_list(other)\n",
    "        o_LL = [m1*o1 - m2*o2, m1*o2 + m2*o1]\n",
    "        o_LR = [m1*o3 - m2*o4, m1*o4 + m2*o3]\n",
    "        o_RL = [m3*o1 - m4*o2, m3*o2 + m4*o1]\n",
    "        o_RR = [m3*o3 - m4*o4, m3*o4 + m4*o3]\n",
    "        o = [\n",
    "            o_LL[0] - (o_RR[0] - o_RR[1]*self.extension_i),\n",
    "            o_LL[1] - (o_RR[1] + o_RR[0]*self.extension_i),\n",
    "            o_LR[0] + o_RL[0],\n",
    "            o_LR[1] + o_RL[1]\n",
    "        ]\n",
    "        return self.__class__(o)\n",
    "\n",
    "    __radd__ = __add__\n",
    "    __rmul__ = __mul__\n",
    "\n",
    "    def __pow__(self, other):\n",
    "        if other == 0:\n",
    "            return self.__class__([1,0,0,0])\n",
    "        elif other == 1:\n",
    "            return self\n",
    "        elif other == 2:\n",
    "            return self * self\n",
    "        else:\n",
    "            return self.__pow__(other % 2) * self.__pow__(other // 2) ** 2\n",
    "\n",
    "    def inv(self):\n",
    "        # return self ** (self.modulus ** 4 - 2)\n",
    "        x0, x1, x2, x3 = self.value\n",
    "        r20 = x2*x2 - x3*x3\n",
    "        r21 = 2 * x2 * x3\n",
    "        denom0 = x0**2 - x1**2 + r20 - r21 * 2\n",
    "        denom1 = 2*x0*x1 + r21 + r20 * 2\n",
    "        inv_denom_norm = (denom0 ** 2 + denom1 ** 2).inv()\n",
    "        inv_denom0 = denom0 * inv_denom_norm\n",
    "        inv_denom1 = -denom1 * inv_denom_norm\n",
    "        o = self.__class__([\n",
    "            x0 * inv_denom0 - x1 * inv_denom1,\n",
    "            x0 * inv_denom1 + x1 * inv_denom0,\n",
    "            -x2 * inv_denom0 + x3 * inv_denom1,\n",
    "            -x2 * inv_denom1 - x3 * inv_denom0,\n",
    "        ])\n",
    "        return o\n",
    "    \n",
    "    def __truediv__(self, other):\n",
    "        other = self.__class__(self._to_list(other))\n",
    "        if other.value[1:] == [0,0,0]:\n",
    "            factor = other.value[0].inv()\n",
    "            return self.__class__([v * factor for v in self.value])\n",
    "        else:\n",
    "            return self * other.inv()\n",
    "\n",
    "    def __eq__(self, other):\n",
    "        return self.value == self._to_list(other)\n",
    "\n",
    "    def __repr__(self):\n",
    "        return '<'+str([v.value for v in self.value])+'>'\n",
    "\n",
    "    def to_bytes(self):\n",
    "        return b''.join([v.to_bytes() for v in self.value])\n",
    "\n",
    "    @classmethod\n",
    "    def from_bytes(cls, bytez):\n",
    "        return cls([\n",
    "            int.from_bytes(bytez[i:i+4], 'little') for i in range(0, 16, 4)\n",
    "        ])\n",
    "\n",
    "class ExtendedBabyMersenneElement(ExtendedFieldElement):\n",
    "    subclass = BabyMersenneElement\n",
    "    extension_i = 4\n",
    "EBB = ExtendedBabyMersenneElement"
   ]
  },
  {
   "cell_type": "code",
   "execution_count": 6,
   "id": "13aa4ee3-dc5f-48e0-bbf2-2812371e0cc9",
   "metadata": {},
   "outputs": [
    {
     "data": {
      "text/plain": [
       "<[1, 0, 0, 0]>"
      ]
     },
     "execution_count": 6,
     "metadata": {},
     "output_type": "execute_result"
    }
   ],
   "source": [
    "EBB([1,2,3,4]) ** (31**4-1)"
   ]
  },
  {
   "cell_type": "code",
   "execution_count": 7,
   "id": "94ac048f-e9f9-431d-b62e-8d01f58627b1",
   "metadata": {},
   "outputs": [
    {
     "data": {
      "text/plain": [
       "<[2, 1, 3, 4]>"
      ]
     },
     "execution_count": 7,
     "metadata": {},
     "output_type": "execute_result"
    }
   ],
   "source": [
    "EBB([1,2,3,4])*EBB([5,6,7,8])"
   ]
  },
  {
   "cell_type": "markdown",
   "id": "6bf84224-5b20-4179-b0a3-cc010fd80396",
   "metadata": {},
   "source": [
    "## Circle Group "
   ]
  },
  {
   "cell_type": "markdown",
   "id": "49760a62-26f4-4676-b3f3-9b6723cc06c7",
   "metadata": {},
   "source": [
    "Adding two points on the unit circle.\n",
    "$$\n",
    "\\begin{aligned}\n",
    "& x_{\\text {new }}=x 1 \\cdot x 2-y 1 \\cdot y 2=\\cos \\theta_1 \\cdot \\cos \\theta_2-\\sin \\theta_1 \\cdot \\sin \\theta_2=\\cos \\left(\\theta_1+\\theta_2\\right) \\\\\n",
    "& y_{\\text {new }}=x 1 \\cdot y 2+x 2 \\cdot y 1=\\cos \\theta_1 \\cdot \\sin \\theta_2+\\cos \\theta_2 \\cdot \\sin \\theta_1=\\sin \\left(\\theta_1+\\theta_2\\right)\n",
    "\\end{aligned}\n",
    "$$"
   ]
  },
  {
   "cell_type": "code",
   "execution_count": 6,
   "id": "e13fcbd2-f9fb-48f9-b739-8122bac78fb1",
   "metadata": {},
   "outputs": [],
   "source": [
    "def point_add(pt1, pt2):\n",
    "    (x1, y1), (x2, y2) = pt1, pt2\n",
    "    return (\n",
    "        x1 * x2 - y1 * y2,\n",
    "        x1 * y2 + x2 * y1\n",
    "    )"
   ]
  },
  {
   "cell_type": "markdown",
   "id": "084ea114-e8c8-41ed-8473-9a122c506864",
   "metadata": {},
   "source": [
    "Doubling a point on the unit circle. This operation corresponds to doubling the angle $\\theta$ of a point $(\\cos \\theta, \\sin \\theta)$ on the unit circle. The formulas used in the function align with the double-angle formulas for cosine and sine:\n",
    "- $\\cos (2 \\theta)=2 \\cos ^2(\\theta)-1$\n",
    "- $\\sin (2 \\theta)=2 \\sin (\\theta) \\cos (\\theta)$"
   ]
  },
  {
   "cell_type": "code",
   "execution_count": 8,
   "id": "35fc5dcc-6b44-40f9-970f-c8bbd5443e68",
   "metadata": {},
   "outputs": [],
   "source": [
    "def point_double(pt):\n",
    "    x1, y1 = pt\n",
    "    return (2 * x1 * x1 - 1, 2 * x1 * y1)"
   ]
  },
  {
   "cell_type": "markdown",
   "id": "26eecea4-8506-4628-9a0a-2149a4983aac",
   "metadata": {},
   "source": [
    "![](./circlestark.png)"
   ]
  },
  {
   "cell_type": "markdown",
   "id": "3422d338-f422-4c36-a107-74cf411893be",
   "metadata": {},
   "source": [
    "## References\n",
    "- https://github.com/Plonky3/Plonky3/tree/main/mersenne-31\n",
    "- https://eprint.iacr.org/2024/278.pdf\n",
    "- [Circle STARKs: Part I, Mersenne](https://www.zksecurity.xyz/blog/posts/circle-starks-1/)\n",
    "- [Ariel Gabizon - FFT's on the projective line and circle-STARKs](https://www.youtube.com/watch?v=d1f9sBajj10)\n",
    "- [Vitalik: Exploring circle STARKs](https://vitalik.eth.limo/general/2024/07/23/circlestarks.html)\n",
    "- [Finite field - Wikipedia](https://en.wikipedia.org/wiki/Finite_field)\n",
    "- [Circle group](https://en.wikipedia.org/wiki/Circle_group)"
   ]
  }
 ],
 "metadata": {
  "kernelspec": {
   "display_name": "miniconda3",
   "language": "python",
   "name": "conda-miniconda3"
  },
  "language_info": {
   "codemirror_mode": {
    "name": "ipython",
    "version": 3
   },
   "file_extension": ".py",
   "mimetype": "text/x-python",
   "name": "python",
   "nbconvert_exporter": "python",
   "pygments_lexer": "ipython3",
   "version": "3.11.5"
  }
 },
 "nbformat": 4,
 "nbformat_minor": 5
}
